{
  "nbformat": 4,
  "nbformat_minor": 0,
  "metadata": {
    "colab": {
      "name": "MNIST Handwriting Recognition",
      "provenance": [],
      "collapsed_sections": [],
      "authorship_tag": "ABX9TyPbOMIASpzbWFjvUjXPEM33",
      "include_colab_link": true
    },
    "kernelspec": {
      "name": "python3",
      "display_name": "Python 3"
    },
    "accelerator": "GPU"
  },
  "cells": [
    {
      "cell_type": "markdown",
      "metadata": {
        "id": "view-in-github",
        "colab_type": "text"
      },
      "source": [
        "<a href=\"https://colab.research.google.com/github/VNKT777/MNIST_Handwriting_Recognition/blob/main/MNIST_Handwriting_Recognition.ipynb\" target=\"_parent\"><img src=\"https://colab.research.google.com/assets/colab-badge.svg\" alt=\"Open In Colab\"/></a>"
      ]
    },
    {
      "cell_type": "code",
      "metadata": {
        "id": "jetCDqZPeoAn"
      },
      "source": [
        "from keras.datasets import mnist\r\n",
        "from keras.models import Sequential\r\n",
        "from keras.layers import Conv2D, MaxPooling2D\r\n",
        "from keras.layers import Dense, Dropout, Flatten\r\n",
        "from keras.optimizers import SGD\r\n",
        "from keras.utils import np_utils\r\n",
        "import numpy"
      ],
      "execution_count": 1,
      "outputs": []
    },
    {
      "cell_type": "code",
      "metadata": {
        "colab": {
          "base_uri": "https://localhost:8080/"
        },
        "id": "lVIjLVT1eqAd",
        "outputId": "34279a12-741d-4b1b-a15e-ef7cef5a76c0"
      },
      "source": [
        "#Loading the MNIST Dataset\r\n",
        "(x_train,y_train),(x_test,y_test) = mnist.load_data()\r\n",
        "\r\n",
        "img_rows = x_train[0].shape[0]\r\n",
        "img_cols = x_train[1].shape[0]\r\n",
        "\r\n",
        "x_train = x_train.reshape(x_train.shape[0],img_rows,img_cols,1)\r\n",
        "x_test = x_test.reshape(x_test.shape[0],img_rows,img_cols,1)\r\n",
        "\r\n",
        "input_shape = (img_rows,img_cols,1)\r\n",
        "\r\n",
        "x_train = x_train.astype(\"Float32\")\r\n",
        "x_test = x_test.astype(\"Float32\")\r\n",
        "\r\n",
        "x_train /= 255\r\n",
        "x_test /= 255\r\n",
        "\r\n",
        "y_test = np_utils.to_categorical(y_test)\r\n",
        "y_train =  np_utils.to_categorical(y_train)\r\n"
      ],
      "execution_count": 2,
      "outputs": [
        {
          "output_type": "stream",
          "text": [
            "Downloading data from https://storage.googleapis.com/tensorflow/tf-keras-datasets/mnist.npz\n",
            "11493376/11490434 [==============================] - 0s 0us/step\n"
          ],
          "name": "stdout"
        },
        {
          "output_type": "stream",
          "text": [
            "/usr/local/lib/python3.6/dist-packages/ipykernel_launcher.py:12: DeprecationWarning: Numeric-style type codes are deprecated and will result in an error in the future.\n",
            "  if sys.path[0] == '':\n",
            "/usr/local/lib/python3.6/dist-packages/ipykernel_launcher.py:13: DeprecationWarning: Numeric-style type codes are deprecated and will result in an error in the future.\n",
            "  del sys.path[0]\n"
          ],
          "name": "stderr"
        }
      ]
    },
    {
      "cell_type": "code",
      "metadata": {
        "colab": {
          "base_uri": "https://localhost:8080/"
        },
        "id": "PpstNeYMR5M8",
        "outputId": "397e484c-6bda-4f9e-cdf3-b871b00da59d"
      },
      "source": [
        "#Training the Model\r\n",
        "\r\n",
        "model = Sequential()\r\n",
        "model.add(Conv2D(32,(3,3),activation='relu',input_shape=input_shape))\r\n",
        "# model.add(MaxPooling2D(pool_size=(2,2)))\r\n",
        "\r\n",
        "model.add(Conv2D(64,(3,3),activation='relu',input_shape=input_shape))\r\n",
        "model.add(MaxPooling2D(pool_size=(2,2)))\r\n",
        "model.add(Dropout(0.3))\r\n",
        "# model.add(Conv2D(64,(3,3),activation='relu',input_shape=input_shape))\r\n",
        "\r\n",
        "model.add(Flatten())\r\n",
        "\r\n",
        "model.add(Dense(256,activation='relu'))\r\n",
        "model.add(Dropout(0.15))\r\n",
        "model.add(Dense(10,activation='softmax'))\r\n",
        "\r\n",
        "model.compile(loss = 'categorical_crossentropy',\r\n",
        "              optimizer = SGD(0.01),\r\n",
        "              metrics = ['accuracy'])\r\n",
        "\r\n",
        "print(model.summary())"
      ],
      "execution_count": 3,
      "outputs": [
        {
          "output_type": "stream",
          "text": [
            "Model: \"sequential\"\n",
            "_________________________________________________________________\n",
            "Layer (type)                 Output Shape              Param #   \n",
            "=================================================================\n",
            "conv2d (Conv2D)              (None, 26, 26, 32)        320       \n",
            "_________________________________________________________________\n",
            "conv2d_1 (Conv2D)            (None, 24, 24, 64)        18496     \n",
            "_________________________________________________________________\n",
            "max_pooling2d (MaxPooling2D) (None, 12, 12, 64)        0         \n",
            "_________________________________________________________________\n",
            "dropout (Dropout)            (None, 12, 12, 64)        0         \n",
            "_________________________________________________________________\n",
            "flatten (Flatten)            (None, 9216)              0         \n",
            "_________________________________________________________________\n",
            "dense (Dense)                (None, 256)               2359552   \n",
            "_________________________________________________________________\n",
            "dropout_1 (Dropout)          (None, 256)               0         \n",
            "_________________________________________________________________\n",
            "dense_1 (Dense)              (None, 10)                2570      \n",
            "=================================================================\n",
            "Total params: 2,380,938\n",
            "Trainable params: 2,380,938\n",
            "Non-trainable params: 0\n",
            "_________________________________________________________________\n",
            "None\n"
          ],
          "name": "stdout"
        }
      ]
    },
    {
      "cell_type": "code",
      "metadata": {
        "colab": {
          "base_uri": "https://localhost:8080/"
        },
        "id": "NQ1lI3CbZ1OB",
        "outputId": "32a5b52a-8237-41aa-b74b-f6df3a9146ae"
      },
      "source": [
        "batch_size = 32\r\n",
        "epochs = 10\r\n",
        "history = model.fit(x_train,\r\n",
        "                    y_train,\r\n",
        "                    batch_size = batch_size,\r\n",
        "                    epochs = epochs,\r\n",
        "                    verbose = 1,\r\n",
        "                    validation_data = (x_test,y_test))\r\n",
        "score = model.evaluate(x_test,y_test,verbose=0)\r\n",
        "print(\"Test Loss :\",score[0])\r\n",
        "print(\"Test Accucracy :\",score[1])"
      ],
      "execution_count": 4,
      "outputs": [
        {
          "output_type": "stream",
          "text": [
            "Epoch 1/10\n",
            "1875/1875 [==============================] - 14s 4ms/step - loss: 0.8341 - accuracy: 0.7440 - val_loss: 0.1715 - val_accuracy: 0.9478\n",
            "Epoch 2/10\n",
            "1875/1875 [==============================] - 6s 3ms/step - loss: 0.2138 - accuracy: 0.9350 - val_loss: 0.1181 - val_accuracy: 0.9655\n",
            "Epoch 3/10\n",
            "1875/1875 [==============================] - 6s 3ms/step - loss: 0.1628 - accuracy: 0.9482 - val_loss: 0.0993 - val_accuracy: 0.9694\n",
            "Epoch 4/10\n",
            "1875/1875 [==============================] - 6s 3ms/step - loss: 0.1280 - accuracy: 0.9611 - val_loss: 0.0784 - val_accuracy: 0.9757\n",
            "Epoch 5/10\n",
            "1875/1875 [==============================] - 6s 3ms/step - loss: 0.1040 - accuracy: 0.9683 - val_loss: 0.0718 - val_accuracy: 0.9781\n",
            "Epoch 6/10\n",
            "1875/1875 [==============================] - 6s 3ms/step - loss: 0.0907 - accuracy: 0.9726 - val_loss: 0.0616 - val_accuracy: 0.9809\n",
            "Epoch 7/10\n",
            "1875/1875 [==============================] - 6s 3ms/step - loss: 0.0821 - accuracy: 0.9743 - val_loss: 0.0584 - val_accuracy: 0.9818\n",
            "Epoch 8/10\n",
            "1875/1875 [==============================] - 6s 3ms/step - loss: 0.0668 - accuracy: 0.9797 - val_loss: 0.0520 - val_accuracy: 0.9831\n",
            "Epoch 9/10\n",
            "1875/1875 [==============================] - 7s 3ms/step - loss: 0.0627 - accuracy: 0.9814 - val_loss: 0.0487 - val_accuracy: 0.9839\n",
            "Epoch 10/10\n",
            "1875/1875 [==============================] - 6s 3ms/step - loss: 0.0563 - accuracy: 0.9827 - val_loss: 0.0436 - val_accuracy: 0.9855\n",
            "Test Loss : 0.04364408180117607\n",
            "Test Accucracy : 0.9854999780654907\n"
          ],
          "name": "stdout"
        }
      ]
    },
    {
      "cell_type": "markdown",
      "metadata": {
        "id": "zTUg3vqvy47k"
      },
      "source": [
        "\r\n",
        "\r\n",
        "```\r\n",
        "# This is formatted as code\r\n",
        "```\r\n",
        "\r\n",
        "# Output"
      ]
    },
    {
      "cell_type": "code",
      "metadata": {
        "colab": {
          "base_uri": "https://localhost:8080/",
          "height": 279
        },
        "id": "wiFLAbr-vdsw",
        "outputId": "46d8df3c-5e5b-4db8-f63a-01b82c37572d"
      },
      "source": [
        "import matplotlib.pyplot as plt\r\n",
        "history_dict = history.history\r\n",
        "\r\n",
        "loss_val = history_dict['loss']\r\n",
        "val_loss_val = history_dict['val_loss']\r\n",
        "\r\n",
        "epochs = range(1,len(loss_val)+1)\r\n",
        "\r\n",
        "line1 = plt.plot(epochs,val_loss_val,label='Validation Loss')\r\n",
        "line2 = plt.plot(epochs,loss_val,label='Loss')\r\n",
        "\r\n",
        "plt.setp(line1,linewidth=2,marker='+',markersize=10)\r\n",
        "plt.setp(line2,linewidth=2,marker='4',markersize=10)\r\n",
        "\r\n",
        "plt.xlabel('Epochs')\r\n",
        "plt.ylabel('Loss')\r\n",
        "plt.grid(True)\r\n",
        "plt.legend()\r\n",
        "plt.show()"
      ],
      "execution_count": 5,
      "outputs": [
        {
          "output_type": "display_data",
          "data": {
            "image/png": "[encoded data removed]",
            "text/plain": [
              "<Figure size 432x288 with 1 Axes>"
            ]
          },
          "metadata": {
            "tags": [],
            "needs_background": "light"
          }
        }
      ]
    }
  ]
}